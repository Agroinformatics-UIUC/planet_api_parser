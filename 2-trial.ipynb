{
 "cells": [
  {
   "cell_type": "code",
   "execution_count": 6,
   "metadata": {},
   "outputs": [],
   "source": [
    "import geopandas as gpd\n",
    "import time\n",
    "import os\n",
    "import json\n",
    "import requests\n",
    "from osgeo import gdal\n",
    "import rasterio\n",
    "import rasterio.mask\n",
    "\n",
    "import pandas as pd\n",
    "from requests.auth import HTTPBasicAuth\n",
    "from dotenv import load_dotenv\n",
    "import os\n",
    "import requests\n",
    "PLANET_API_KEY = \"17de9ecc82734c1caf0ef0da1bf90d97\"\n",
    "import datetime\n"
   ]
  },
  {
   "cell_type": "code",
   "execution_count": 7,
   "metadata": {},
   "outputs": [
    {
     "data": {
      "text/html": [
       "<div>\n",
       "<style scoped>\n",
       "    .dataframe tbody tr th:only-of-type {\n",
       "        vertical-align: middle;\n",
       "    }\n",
       "\n",
       "    .dataframe tbody tr th {\n",
       "        vertical-align: top;\n",
       "    }\n",
       "\n",
       "    .dataframe thead th {\n",
       "        text-align: right;\n",
       "    }\n",
       "</style>\n",
       "<table border=\"1\" class=\"dataframe\">\n",
       "  <thead>\n",
       "    <tr style=\"text-align: right;\">\n",
       "      <th></th>\n",
       "      <th>geometry</th>\n",
       "    </tr>\n",
       "  </thead>\n",
       "  <tbody>\n",
       "    <tr>\n",
       "      <th>0</th>\n",
       "      <td>POLYGON ((-89.06084 39.72437, -89.06084 39.724...</td>\n",
       "    </tr>\n",
       "    <tr>\n",
       "      <th>1</th>\n",
       "      <td>POLYGON ((-89.06172 39.72437, -89.06172 39.724...</td>\n",
       "    </tr>\n",
       "  </tbody>\n",
       "</table>\n",
       "</div>"
      ],
      "text/plain": [
       "                                            geometry\n",
       "0  POLYGON ((-89.06084 39.72437, -89.06084 39.724...\n",
       "1  POLYGON ((-89.06172 39.72437, -89.06172 39.724..."
      ]
     },
     "execution_count": 7,
     "metadata": {},
     "output_type": "execute_result"
    }
   ],
   "source": [
    "# Set filepath\n",
    "fp = \"shapes/trial-design-n-2021.shp\"\n",
    "# Read file using gpd.read_file()\n",
    "trial_design = gpd.read_file(fp)\n",
    "#str(data.iloc[0]['geometry'])\n",
    "# check the data\n",
    "#gpd.GeoSeries([data.iloc[0]['geometry']])\n",
    "trial_design.head(2)"
   ]
  },
  {
   "cell_type": "code",
   "execution_count": 8,
   "metadata": {},
   "outputs": [
    {
     "name": "stdout",
     "output_type": "stream",
     "text": [
      "110\n"
     ]
    }
   ],
   "source": [
    "df = pd.read_csv('data/res.csv')\n",
    "print(len(df.index))\n",
    "df.head(3)\n",
    "ids = [v.id for k,v in df.iterrows()]"
   ]
  },
  {
   "cell_type": "code",
   "execution_count": 16,
   "metadata": {},
   "outputs": [],
   "source": [
    "for id_ in ids:\n",
    "    with rasterio.open(v['filename']) as src:\n",
    "        outpath = f\"data/cropped/{id_}\"\n",
    "        if not os.path.exists(outpath):\n",
    "            # Create a new directory because it does not exist \n",
    "            os.makedirs(outpath)\n",
    "        i = 0\n",
    "        for geom in trial_design.iterrows():\n",
    "            out_image, out_transform = rasterio.mask.mask(src, geom[1], crop=True)\n",
    "            out_meta = src.meta\n",
    "            out_meta.update(\n",
    "                {\n",
    "                    \"height\": out_image.shape[1],\n",
    "                    \"width\": out_image.shape[2],\n",
    "                    \"transform\": out_transform,\n",
    "                }\n",
    "            )\n",
    "            filename = f\"{outpath}/{i}.tiff\"\n",
    "            with rasterio.open(filename, \"w\", **out_meta) as dest:\n",
    "                dest.write(out_image)\n",
    "            i += 1\n",
    "                        \n",
    "            # Load red and NIR bands - note all PlanetScope 4-band images have band order BGRN\n",
    "            with rasterio.open(filename) as src2:\n",
    "                band_red = src.read(3)\n",
    "\n",
    "            with rasterio.open(filename) as src2:\n",
    "                band_nir = src.read(4)\n",
    "\n",
    "\n",
    "            xmldoc = minidom.parse(\"20161218_101700_0e0d_3B_AnalyticMS_metadata.xml\")\n",
    "            nodes = xmldoc.getElementsByTagName(\"ps:bandSpecificMetadata\")\n",
    "\n",
    "            # XML parser refers to bands by numbers 1-4\n",
    "            coeffs = {}\n",
    "            for node in nodes:\n",
    "                bn = node.getElementsByTagName(\"ps:bandNumber\")[0].firstChild.data\n",
    "                if bn in ['1', '2', '3', '4']:\n",
    "                    i = int(bn)\n",
    "                    value = node.getElementsByTagName(\"ps:reflectanceCoefficient\")[0].firstChild.data\n",
    "                    coeffs[i] = float(value)\n",
    "\n"
   ]
  },
  {
   "cell_type": "code",
   "execution_count": null,
   "metadata": {},
   "outputs": [],
   "source": []
  },
  {
   "cell_type": "code",
   "execution_count": null,
   "metadata": {},
   "outputs": [],
   "source": []
  },
  {
   "cell_type": "code",
   "execution_count": null,
   "metadata": {},
   "outputs": [],
   "source": []
  },
  {
   "cell_type": "code",
   "execution_count": null,
   "metadata": {},
   "outputs": [],
   "source": []
  },
  {
   "cell_type": "code",
   "execution_count": null,
   "metadata": {},
   "outputs": [],
   "source": []
  },
  {
   "cell_type": "code",
   "execution_count": null,
   "metadata": {},
   "outputs": [],
   "source": []
  },
  {
   "cell_type": "code",
   "execution_count": null,
   "metadata": {},
   "outputs": [],
   "source": []
  },
  {
   "cell_type": "code",
   "execution_count": null,
   "metadata": {},
   "outputs": [],
   "source": []
  }
 ],
 "metadata": {
  "kernelspec": {
   "display_name": "Python 3",
   "language": "python",
   "name": "python3"
  },
  "language_info": {
   "codemirror_mode": {
    "name": "ipython",
    "version": 3
   },
   "file_extension": ".py",
   "mimetype": "text/x-python",
   "name": "python",
   "nbconvert_exporter": "python",
   "pygments_lexer": "ipython3",
   "version": "3.8.10"
  }
 },
 "nbformat": 4,
 "nbformat_minor": 4
}
