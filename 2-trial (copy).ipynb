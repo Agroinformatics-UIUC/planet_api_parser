{
 "cells": [
  {
   "cell_type": "code",
   "execution_count": 1,
   "metadata": {},
   "outputs": [],
   "source": [
    "import geopandas as gpd\n",
    "import time\n",
    "import os\n",
    "import matplotlib.pyplot as plt\n",
    "import json\n",
    "import requests\n",
    "from osgeo import gdal\n",
    "from matplotlib import pyplot\n",
    "import rasterio\n",
    "import rasterio.mask\n",
    "from xml.dom.minidom import parse\n",
    "import numpy\n",
    "import pandas as pd\n",
    "from requests.auth import HTTPBasicAuth\n",
    "from dotenv import load_dotenv\n",
    "import os\n",
    "import requests\n",
    "PLANET_API_KEY = \"17de9ecc82734c1caf0ef0da1bf90d97\"\n",
    "import datetime\n"
   ]
  },
  {
   "cell_type": "code",
   "execution_count": 2,
   "metadata": {},
   "outputs": [
    {
     "name": "stdout",
     "output_type": "stream",
     "text": [
      "140\n"
     ]
    },
    {
     "data": {
      "text/html": [
       "<div>\n",
       "<style scoped>\n",
       "    .dataframe tbody tr th:only-of-type {\n",
       "        vertical-align: middle;\n",
       "    }\n",
       "\n",
       "    .dataframe tbody tr th {\n",
       "        vertical-align: top;\n",
       "    }\n",
       "\n",
       "    .dataframe thead th {\n",
       "        text-align: right;\n",
       "    }\n",
       "</style>\n",
       "<table border=\"1\" class=\"dataframe\">\n",
       "  <thead>\n",
       "    <tr style=\"text-align: right;\">\n",
       "      <th></th>\n",
       "      <th>geometry</th>\n",
       "    </tr>\n",
       "  </thead>\n",
       "  <tbody>\n",
       "    <tr>\n",
       "      <th>0</th>\n",
       "      <td>POLYGON ((-89.06084 39.72437, -89.06084 39.724...</td>\n",
       "    </tr>\n",
       "    <tr>\n",
       "      <th>1</th>\n",
       "      <td>POLYGON ((-89.06172 39.72437, -89.06172 39.724...</td>\n",
       "    </tr>\n",
       "  </tbody>\n",
       "</table>\n",
       "</div>"
      ],
      "text/plain": [
       "                                            geometry\n",
       "0  POLYGON ((-89.06084 39.72437, -89.06084 39.724...\n",
       "1  POLYGON ((-89.06172 39.72437, -89.06172 39.724..."
      ]
     },
     "execution_count": 2,
     "metadata": {},
     "output_type": "execute_result"
    }
   ],
   "source": [
    "# Set filepath\n",
    "fp = \"shapes/trial-design-n-2021.shp\"\n",
    "# Read file using gpd.read_file()\n",
    "trial_design = gpd.read_file(fp)\n",
    "#str(data.iloc[0]['geometry'])\n",
    "# check the data\n",
    "#gpd.GeoSeries([data.iloc[0]['geometry']])\n",
    "print(len(trial_design.index))\n",
    "trial_design.head(2)"
   ]
  },
  {
   "cell_type": "code",
   "execution_count": 3,
   "metadata": {},
   "outputs": [
    {
     "name": "stdout",
     "output_type": "stream",
     "text": [
      "34\n"
     ]
    }
   ],
   "source": [
    "df = pd.read_csv('data/res.csv')\n",
    "print(len(df.index))\n",
    "df.head(3)\n",
    "ids = [v.id for k,v in df.iterrows()]"
   ]
  },
  {
   "cell_type": "code",
   "execution_count": null,
   "metadata": {},
   "outputs": [],
   "source": []
  },
  {
   "cell_type": "code",
   "execution_count": 4,
   "metadata": {},
   "outputs": [
    {
     "name": "stdout",
     "output_type": "stream",
     "text": [
      "geometry    POLYGON ((-89.06083529248441 39.72436997827738...\n",
      "Name: 0, dtype: object\n"
     ]
    }
   ],
   "source": [
    "for geom in trial_design.iterrows():\n",
    "    print(geom[1])\n",
    "    break"
   ]
  },
  {
   "cell_type": "code",
   "execution_count": 12,
   "metadata": {},
   "outputs": [],
   "source": [
    "def calc_nvdi(image_path, xml_path, out_path):\n",
    "    my_image = rasterio.open(image_path)\n",
    "    band_red = my_image.read(3)\n",
    "    band_nir = my_image.read(4)\n",
    "    xmldoc = parse(xml_path)\n",
    "    nodes = xmldoc.getElementsByTagName(\"ps:bandSpecificMetadata\")\n",
    "    # XML parser refers to bands by numbers 1-4\n",
    "    coeffs = {}\n",
    "    for node in nodes:\n",
    "        bn = node.getElementsByTagName(\"ps:bandNumber\")[0].firstChild.data\n",
    "        if bn in ['1', '2', '3', '4']:\n",
    "            i = int(bn)\n",
    "            value = node.getElementsByTagName(\"ps:reflectanceCoefficient\")[0].firstChild.data\n",
    "            coeffs[i] = float(value)\n",
    "\n",
    "    # Multiply by corresponding coefficients\n",
    "    band_red = band_red * coeffs[3]\n",
    "    band_nir = band_nir * coeffs[4]\n",
    "    # Allow division by zero\n",
    "    numpy.seterr(divide='ignore', invalid='ignore')\n",
    "\n",
    "    # Calculate NDVI\n",
    "    ndvi = (band_nir.astype(float) - band_red.astype(float)) / (band_nir + band_red)\n",
    "\n",
    "    # Set spatial characteristics of the output object to mirror the input\n",
    "    kwargs = src.meta\n",
    "    kwargs.update(\n",
    "        dtype=rasterio.float32,\n",
    "        count = 1)\n",
    "    with rasterio.open(out_path, 'w', **kwargs) as dst:\n",
    "        dst.write_band(1, ndvi.astype(rasterio.float32))\n",
    "#    plt.imsave(f\"data/imgs/{id_}_subarea_ndvi_cmap.png\", ndvi, cmap=plt.cm.summer)\n",
    "    return my_image"
   ]
  },
  {
   "cell_type": "code",
   "execution_count": null,
   "metadata": {},
   "outputs": [],
   "source": [
    "for id_ in ids:\n",
    "    image_path = f\"data/imgs/{id_}_subarea.tif\"\n",
    "    out_path = f\"data/nvdi/{id_}.tif\"\n",
    "    xml_path = parse(f\"data/imgs/{id_}_subarea.xml\")\n",
    "    for p in [image_path,xml_path,out_path]:\n",
    "        if not os.path.exists(p):\n",
    "            os.makedirs(p)\n",
    "    src = calc_nvdi(image_path,xml_path,out_path)\n",
    "    #src = rasterio.open()\n",
    "    #outpath = f\"data/cropped/{id_}\"\n",
    "    if not os.path.exists(outpath):\n",
    "        #Create a new directory because it does not exist \n",
    "        os.makedirs(outpath)\n",
    "    i = 0\n",
    "    for geom in trial_design.iterrows():\n",
    "        out_image, out_transform = rasterio.mask.mask(src, geom[1], crop=True)\n",
    "        out_meta = src.meta\n",
    "        out_meta.update(\n",
    "            {\n",
    "                \"height\": out_image.shape[1],\n",
    "                \"width\": out_image.shape[2],\n",
    "                \"transform\": out_transform,\n",
    "            }\n",
    "        )\n",
    "        \n",
    "        filename = f\"{outpath}/{i}.tiff\"\n",
    "        #array = src.read(1)\n",
    "        \n",
    "        with rasterio.open(filename, \"w\", **out_meta) as dest:\n",
    "            dest.write(out_image)\n",
    "        i += 1\n",
    "        new_plot_image = rasterio.open(filename)\n",
    "        \n",
    "        band_red = new_plot_image.read(3)\n",
    "        band_nir = new_plot_image.read(4)\n",
    "\n",
    "\n",
    "        nodes = xmldoc.getElementsByTagName(\"ps:bandSpecificMetadata\")\n",
    "\n",
    "        # XML parser refers to bands by numbers 1-4\n",
    "        coeffs = {}\n",
    "        for node in nodes:\n",
    "            bn = node.getElementsByTagName(\"ps:bandNumber\")[0].firstChild.data\n",
    "            if bn in ['1', '2', '3', '4']:\n",
    "                i = int(bn)\n",
    "                value = node.getElementsByTagName(\"ps:reflectanceCoefficient\")[0].firstChild.data\n",
    "                coeffs[i] = float(value)\n",
    "\n",
    "        # Multiply by corresponding coefficients\n",
    "        band_red = band_red * coeffs[3]\n",
    "        band_nir = band_nir * coeffs[4]\n",
    "        # Allow division by zero\n",
    "        numpy.seterr(divide='ignore', invalid='ignore')\n",
    "\n",
    "        # Calculate NDVI\n",
    "        ndvi = (band_nir.astype(float) - band_red.astype(float)) / (band_nir + band_red)\n",
    "\n",
    "        # Set spatial characteristics of the output object to mirror the input\n",
    "        kwargs = src.meta\n",
    "        kwargs.update(\n",
    "            dtype=rasterio.float32,\n",
    "            count = 1)\n",
    "        #print(ndvi)\n",
    "        # Create the file\n",
    "        #with rasterio.open(f\"data/imgs/{id_}_subarea_ndvi.tif\", 'w', **kwargs) as dst:\n",
    "        #        dst.write_band(1, ndvi.astype(rasterio.float32))\n",
    "        #plt.imsave(f\"data/imgs/{id_}_subarea_ndvi_cmap.png\", ndvi, cmap=plt.cm.summer)\n"
   ]
  },
  {
   "cell_type": "code",
   "execution_count": null,
   "metadata": {},
   "outputs": [],
   "source": []
  },
  {
   "cell_type": "code",
   "execution_count": null,
   "metadata": {},
   "outputs": [],
   "source": [
    "for id_ in ids:\n",
    "    src = rasterio.open(f\"data/imgs/{id_}_subarea.tif\")\n",
    "    outpath = f\"data/cropped/{id_}\"\n",
    "    if not os.path.exists(outpath):\n",
    "        #Create a new directory because it does not exist \n",
    "        os.makedirs(outpath)\n",
    "    i = 0\n",
    "    for geom in trial_design.iterrows():\n",
    "        out_image, out_transform = rasterio.mask.mask(src, geom[1], crop=True)\n",
    "        out_meta = src.meta\n",
    "        out_meta.update(\n",
    "            {\n",
    "                \"height\": out_image.shape[1],\n",
    "                \"width\": out_image.shape[2],\n",
    "                \"transform\": out_transform,\n",
    "            }\n",
    "        )\n",
    "        \n",
    "        filename = f\"{outpath}/{i}.tiff\"\n",
    "        #array = src.read(1)\n",
    "        \n",
    "        with rasterio.open(filename, \"w\", **out_meta) as dest:\n",
    "            dest.write(out_image)\n",
    "        i += 1\n",
    "        new_plot_image = rasterio.open(filename)\n",
    "        \n",
    "        band_red = new_plot_image.read(3)\n",
    "        band_nir = new_plot_image.read(4)\n",
    "\n",
    "\n",
    "        xmldoc = parse(f\"data/imgs/{id_}_subarea.xml\")\n",
    "        nodes = xmldoc.getElementsByTagName(\"ps:bandSpecificMetadata\")\n",
    "\n",
    "        # XML parser refers to bands by numbers 1-4\n",
    "        coeffs = {}\n",
    "        for node in nodes:\n",
    "            bn = node.getElementsByTagName(\"ps:bandNumber\")[0].firstChild.data\n",
    "            if bn in ['1', '2', '3', '4']:\n",
    "                i = int(bn)\n",
    "                value = node.getElementsByTagName(\"ps:reflectanceCoefficient\")[0].firstChild.data\n",
    "                coeffs[i] = float(value)\n",
    "\n",
    "        # Multiply by corresponding coefficients\n",
    "        band_red = band_red * coeffs[3]\n",
    "        band_nir = band_nir * coeffs[4]\n",
    "        # Allow division by zero\n",
    "        numpy.seterr(divide='ignore', invalid='ignore')\n",
    "\n",
    "        # Calculate NDVI\n",
    "        ndvi = (band_nir.astype(float) - band_red.astype(float)) / (band_nir + band_red)\n",
    "\n",
    "        # Set spatial characteristics of the output object to mirror the input\n",
    "        kwargs = src.meta\n",
    "        kwargs.update(\n",
    "            dtype=rasterio.float32,\n",
    "            count = 1)\n",
    "        #print(ndvi)\n",
    "        # Create the file\n",
    "        #with rasterio.open(f\"data/imgs/{id_}_subarea_ndvi.tif\", 'w', **kwargs) as dst:\n",
    "        #        dst.write_band(1, ndvi.astype(rasterio.float32))\n",
    "        #plt.imsave(f\"data/imgs/{id_}_subarea_ndvi_cmap.png\", ndvi, cmap=plt.cm.summer)\n"
   ]
  },
  {
   "cell_type": "code",
   "execution_count": null,
   "metadata": {},
   "outputs": [],
   "source": [
    "pyplot.imshow(array, cmap='pink')\n",
    "pyplot.show()  "
   ]
  },
  {
   "cell_type": "code",
   "execution_count": 7,
   "metadata": {},
   "outputs": [
    {
     "data": {
      "text/plain": [
       "'data/cropped/20210822_164358_51_2407/0.tiff'"
      ]
     },
     "execution_count": 7,
     "metadata": {},
     "output_type": "execute_result"
    }
   ],
   "source": [
    "filename"
   ]
  },
  {
   "cell_type": "code",
   "execution_count": null,
   "metadata": {},
   "outputs": [],
   "source": []
  },
  {
   "cell_type": "code",
   "execution_count": null,
   "metadata": {},
   "outputs": [],
   "source": []
  },
  {
   "cell_type": "code",
   "execution_count": null,
   "metadata": {},
   "outputs": [],
   "source": []
  },
  {
   "cell_type": "code",
   "execution_count": null,
   "metadata": {},
   "outputs": [],
   "source": []
  },
  {
   "cell_type": "code",
   "execution_count": null,
   "metadata": {},
   "outputs": [],
   "source": []
  },
  {
   "cell_type": "code",
   "execution_count": 8,
   "metadata": {},
   "outputs": [
    {
     "data": {
      "text/plain": [
       "array([[  0,   0,   0, ...,   0,   0,   0],\n",
       "       [  0,   0,   0, ...,  20,  16,   0],\n",
       "       [142, 100,  75, ...,  16,  14,   0],\n",
       "       ...,\n",
       "       [  0,   0,   0, ...,   0,   0,   0],\n",
       "       [  0,   0,   0, ...,   0,   0,   0],\n",
       "       [  0,   0,   0, ...,   0,   0,   0]], dtype=uint8)"
      ]
     },
     "execution_count": 8,
     "metadata": {},
     "output_type": "execute_result"
    }
   ],
   "source": []
  },
  {
   "cell_type": "code",
   "execution_count": null,
   "metadata": {},
   "outputs": [],
   "source": []
  }
 ],
 "metadata": {
  "kernelspec": {
   "display_name": "Python 3",
   "language": "python",
   "name": "python3"
  },
  "language_info": {
   "codemirror_mode": {
    "name": "ipython",
    "version": 3
   },
   "file_extension": ".py",
   "mimetype": "text/x-python",
   "name": "python",
   "nbconvert_exporter": "python",
   "pygments_lexer": "ipython3",
   "version": "3.8.10"
  }
 },
 "nbformat": 4,
 "nbformat_minor": 4
}
